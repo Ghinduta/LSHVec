{
 "cells": [
  {
   "cell_type": "code",
   "execution_count": 1,
   "metadata": {},
   "outputs": [],
   "source": [
    "import os"
   ]
  },
  {
   "cell_type": "code",
   "execution_count": 2,
   "metadata": {},
   "outputs": [],
   "source": [
    "import numpy as np\n",
    "import pandas as pd\n",
    "from sklearn import manifold\n"
   ]
  },
  {
   "cell_type": "code",
   "execution_count": 3,
   "metadata": {},
   "outputs": [
    {
     "name": "stdout",
     "output_type": "stream",
     "text": [
      "Populating the interactive namespace from numpy and matplotlib\n"
     ]
    }
   ],
   "source": [
    "%pylab inline"
   ]
  },
  {
   "cell_type": "code",
   "execution_count": 4,
   "metadata": {},
   "outputs": [],
   "source": [
    "if not os.path.exists('../data/lsaTestData.tar.gz'):\n",
    "    !wget https://github.com/brian-cleary/LatentStrainAnalysis/raw/master/testData.tar.gz -O ../data/lsaTestData.tar.gz"
   ]
  },
  {
   "cell_type": "code",
   "execution_count": 5,
   "metadata": {},
   "outputs": [],
   "source": [
    "!mkdir ../sandbox/lsaTestData_fnv_clf"
   ]
  },
  {
   "cell_type": "code",
   "execution_count": 6,
   "metadata": {},
   "outputs": [],
   "source": [
    "os.chdir(\"../sandbox/lsaTestData_fnv_clf/\")"
   ]
  },
  {
   "cell_type": "code",
   "execution_count": 7,
   "metadata": {
    "scrolled": true
   },
   "outputs": [],
   "source": [
    "!tar xf ../../data/lsaTestData.tar.gz >  /dev/null  2>&1"
   ]
  },
  {
   "cell_type": "code",
   "execution_count": 8,
   "metadata": {},
   "outputs": [],
   "source": [
    "!cat original_reads/SRR*.fastq > data.fastq"
   ]
  },
  {
   "cell_type": "code",
   "execution_count": 23,
   "metadata": {},
   "outputs": [],
   "source": [
    "!python ../../fastqToSeq.py -i data.fastq -o data.seq -s 1"
   ]
  },
  {
   "cell_type": "code",
   "execution_count": 24,
   "metadata": {},
   "outputs": [
    {
     "name": "stdout",
     "output_type": "stream",
     "text": [
      "parameters: {'out_file': 'data.fnv', 'hash_fun': 'fnv', 'in_file': 'data.seq', 'kmer_size': 15, 'n_thread': 7, 'hash_size': 22}\n",
      "100%|████████████████████████████████| 200374/200374 [00:18<00:00, 10742.70it/s]\n"
     ]
    }
   ],
   "source": [
    "!python ../../hashSeq.py -i data.seq --hash fnv -o data.fnv -k 15"
   ]
  },
  {
   "cell_type": "code",
   "execution_count": 25,
   "metadata": {},
   "outputs": [],
   "source": [
    "labels = pd.read_csv(\"data.seq\",header=None, usecols=[1], sep='\\t').iloc[:,0].map(lambda u: int(u.startswith(\"Spike\"))).values"
   ]
  },
  {
   "cell_type": "code",
   "execution_count": 26,
   "metadata": {},
   "outputs": [
    {
     "data": {
      "text/plain": [
       "0.10167985866429777"
      ]
     },
     "execution_count": 26,
     "metadata": {},
     "output_type": "execute_result"
    }
   ],
   "source": [
    "labels.mean()"
   ]
  },
  {
   "cell_type": "code",
   "execution_count": 27,
   "metadata": {},
   "outputs": [],
   "source": [
    "with open('data.fnv.clf','wt') as fout:\n",
    "    with open('data.fnv') as fin:\n",
    "        for i,line in enumerate(fin):\n",
    "            label=\"__label__\"+str(labels[i])\n",
    "            fout.write(label+\" \"+line)"
   ]
  },
  {
   "cell_type": "code",
   "execution_count": 28,
   "metadata": {},
   "outputs": [
    {
     "name": "stdout",
     "output_type": "stream",
     "text": [
      "200374 data.fnv.clf\r\n"
     ]
    }
   ],
   "source": [
    "!wc -l data.fnv.clf"
   ]
  },
  {
   "cell_type": "code",
   "execution_count": 32,
   "metadata": {},
   "outputs": [
    {
     "data": {
      "text/plain": [
       "40074"
      ]
     },
     "execution_count": 32,
     "metadata": {},
     "output_type": "execute_result"
    }
   ],
   "source": [
    "200374-160300"
   ]
  },
  {
   "cell_type": "code",
   "execution_count": 31,
   "metadata": {},
   "outputs": [],
   "source": [
    "!head -n 160300 data.fnv.clf > data.train"
   ]
  },
  {
   "cell_type": "code",
   "execution_count": 33,
   "metadata": {},
   "outputs": [],
   "source": [
    "!tail -n 40074 data.fnv.clf > data.test"
   ]
  },
  {
   "cell_type": "code",
   "execution_count": 35,
   "metadata": {},
   "outputs": [
    {
     "name": "stdout",
     "output_type": "stream",
     "text": [
      "Read 13M words\n",
      "Number of words:  6537412\n",
      "Number of labels: 2\n",
      "Progress: 100.0% words/sec/thread:  960115 lr:  0.000000 loss:  0.018061 ETA:   0h 0m\n"
     ]
    }
   ],
   "source": [
    "!../../fastseq supervised -input data.train -output model_data"
   ]
  },
  {
   "cell_type": "code",
   "execution_count": 36,
   "metadata": {},
   "outputs": [
    {
     "name": "stdout",
     "output_type": "stream",
     "text": [
      "N\t40074\r\n",
      "P@1\t1\r\n",
      "R@1\t1\r\n",
      "Number of examples: 40074\r\n"
     ]
    }
   ],
   "source": [
    "! ../../fastseq test model_data.bin data.test          "
   ]
  },
  {
   "cell_type": "code",
   "execution_count": 39,
   "metadata": {},
   "outputs": [
    {
     "name": "stdout",
     "output_type": "stream",
     "text": [
      "Read 13M words\n",
      "Number of words:  6537412\n",
      "Number of labels: 2\n",
      "Progress: 100.0% words/sec/thread:  822155 lr:  0.000000 loss:  0.001958 ETA:   0h 0m\n"
     ]
    }
   ],
   "source": [
    "!../../fastseq supervised -input data.train -output model_data  -lr 1.0 -epoch 25 -wordNgrams 2 -bucket 200000 -dim 50 -loss hs"
   ]
  },
  {
   "cell_type": "code",
   "execution_count": 40,
   "metadata": {},
   "outputs": [
    {
     "name": "stdout",
     "output_type": "stream",
     "text": [
      "N\t40074\r\n",
      "P@1\t1\r\n",
      "R@1\t1\r\n",
      "Number of examples: 40074\r\n"
     ]
    }
   ],
   "source": [
    "! ../../fastseq test model_data.bin data.test          "
   ]
  },
  {
   "cell_type": "code",
   "execution_count": null,
   "metadata": {},
   "outputs": [],
   "source": []
  }
 ],
 "metadata": {
  "kernelspec": {
   "display_name": "Python [conda env:python27]",
   "language": "python",
   "name": "conda-env-python27-py"
  },
  "language_info": {
   "codemirror_mode": {
    "name": "ipython",
    "version": 2
   },
   "file_extension": ".py",
   "mimetype": "text/x-python",
   "name": "python",
   "nbconvert_exporter": "python",
   "pygments_lexer": "ipython2",
   "version": "2.7.14"
  }
 },
 "nbformat": 4,
 "nbformat_minor": 2
}
