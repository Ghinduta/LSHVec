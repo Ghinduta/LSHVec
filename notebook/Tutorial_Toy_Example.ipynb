{
 "cells": [
  {
   "cell_type": "code",
   "execution_count": 1,
   "metadata": {},
   "outputs": [
    {
     "name": "stdout",
     "output_type": "stream",
     "text": [
      "Populating the interactive namespace from numpy and matplotlib\n"
     ]
    }
   ],
   "source": [
    "import os\n",
    "import pandas as pd\n",
    "from MulticoreTSNE import MulticoreTSNE as TSNE\n",
    "%pylab inline"
   ]
  },
  {
   "cell_type": "markdown",
   "metadata": {},
   "source": [
    "# Train a model and Visualize the vectors. "
   ]
  },
  {
   "cell_type": "code",
   "execution_count": 2,
   "metadata": {},
   "outputs": [],
   "source": [
    "!mkdir -p sandbox #let's put all stuff in the sandbox\n",
    "os.chdir(\"sandbox\")"
   ]
  },
  {
   "cell_type": "markdown",
   "metadata": {},
   "source": [
    "### Download a toy dataset which is describled in\n",
    "\n",
    "    \"Detection of low-abundance bacterial strains in metagenomic datasets by eigengenome partitioning.\" \n",
    "    Nature biotechnology 33.10 (2015): 1053."
   ]
  },
  {
   "cell_type": "code",
   "execution_count": 3,
   "metadata": {},
   "outputs": [
    {
     "name": "stdout",
     "output_type": "stream",
     "text": [
      "--2019-12-06 21:39:50--  https://github.com/brian-cleary/LatentStrainAnalysis/raw/master/testData.tar.gz\n",
      "Resolving github.com (github.com)... 192.30.253.113\n",
      "Connecting to github.com (github.com)|192.30.253.113|:443... connected.\n",
      "HTTP request sent, awaiting response... 302 Found\n",
      "Location: https://raw.githubusercontent.com/brian-cleary/LatentStrainAnalysis/master/testData.tar.gz [following]\n",
      "--2019-12-06 21:39:50--  https://raw.githubusercontent.com/brian-cleary/LatentStrainAnalysis/master/testData.tar.gz\n",
      "Resolving raw.githubusercontent.com (raw.githubusercontent.com)... 199.232.32.133\n",
      "Connecting to raw.githubusercontent.com (raw.githubusercontent.com)|199.232.32.133|:443... connected.\n",
      "HTTP request sent, awaiting response... 200 OK\n",
      "Length: 17790844 (17M) [application/octet-stream]\n",
      "Saving to: ‘lsaTestData.tar.gz’\n",
      "\n",
      "lsaTestData.tar.gz  100%[===================>]  16.97M  3.51MB/s    in 4.9s    \n",
      "\n",
      "2019-12-06 21:39:56 (3.44 MB/s) - ‘lsaTestData.tar.gz’ saved [17790844/17790844]\n",
      "\n"
     ]
    }
   ],
   "source": [
    "if not os.path.exists('lsaTestData.tar.gz'):\n",
    "    !wget https://github.com/brian-cleary/LatentStrainAnalysis/raw/master/testData.tar.gz -O lsaTestData.tar.gz"
   ]
  },
  {
   "cell_type": "code",
   "execution_count": 4,
   "metadata": {
    "scrolled": true
   },
   "outputs": [],
   "source": [
    "!tar xf lsaTestData.tar.gz >  /dev/null  2>&1\n",
    "!cat original_reads/SRR*.fastq > data.fastq "
   ]
  },
  {
   "cell_type": "markdown",
   "metadata": {},
   "source": [
    "### convert fastq file to a seq file ( tabular format)"
   ]
  },
  {
   "cell_type": "code",
   "execution_count": 6,
   "metadata": {},
   "outputs": [],
   "source": [
    "!python ../../scripts/fastseq/fastqToSeq.py -i data.fastq -o data.seq"
   ]
  },
  {
   "cell_type": "code",
   "execution_count": 8,
   "metadata": {},
   "outputs": [
    {
     "name": "stdout",
     "output_type": "stream",
     "text": [
      "1\tSRR492065.1.1 HWI-EAS385_0095_FC:2:1:6702:1434 length=100\tTCAGCCATCGCTATGCTTGGCTTCACTGTGAAGACCACTCCAATCGCGACTTGTCACGATTGTCGTTACCATTAAANNNNNGAAAACAGGAGAACAAGTA\r\n",
      "2\tSRR492065.1.2 HWI-EAS385_0095_FC:2:1:6702:1434 length=100\tAAANNNNNAAAAGGCAGGCCGNNNNNNNNNNCTGGTGCAGGAATGNNNNNNATAATTGTTTCAAAAAGTGGATCCATTGAAGTCATTTCATCATCTAAAT\r\n",
      "3\tSRR492065.2.1 HWI-EAS385_0095_FC:2:1:6931:1435 length=100\tGCAATAGCAGGCTCACCGACTGTGATTTTACTAGAATTTCCAAACTCAGCGACTTGATCAACTTTGTCGGAAGAAANNNNNATCACGGCTAAATCCGTAT\r\n"
     ]
    }
   ],
   "source": [
    "!head -n 3 data.seq"
   ]
  },
  {
   "cell_type": "markdown",
   "metadata": {},
   "source": [
    "### create hash function and hash  reads"
   ]
  },
  {
   "cell_type": "code",
   "execution_count": 9,
   "metadata": {},
   "outputs": [
    {
     "name": "stdout",
     "output_type": "stream",
     "text": [
      "2019-12-06 21:42:29,574 - hashSeq - INFO - start converting...\n",
      "2019-12-06 21:42:29,574 - hashSeq - INFO - parameters: {'f': <function convert.<locals>.f at 0x7f5c0fe6b950>, 'lsh_file': '', 'create_lsh_only': False, 'batch_size': 100000, 'hash_size': 22, 'out_file': 'data.hash', 'in_file': 'data.seq', 'n_thread': 7, 'kmer_size': 15, 'hash_fun': 'lsh', 'bucket': 20000000}\n",
      "2019-12-06 21:42:29,574 - hashSeq - INFO - creating hash ...\n",
      "100%|██████████████████████████████████████| 660/660 [00:00<00:00, 14404.57it/s]\n",
      "2019-12-06 21:42:29,809 - hashSeq - INFO - finish creating hash ...\n",
      "100%|█████████████████████████████████| 100000/100000 [00:33<00:00, 2953.36it/s]\n",
      "2019-12-06 21:43:13,122 - hashSeq - INFO - written 100000 lines\n",
      "100%|█████████████████████████████████| 100000/100000 [00:35<00:00, 2838.50it/s]\n",
      "2019-12-06 21:43:57,631 - hashSeq - INFO - written 200000 lines\n",
      "100%|███████████████████████████████████████| 374/374 [00:00<00:00, 5453.74it/s]\n",
      "2019-12-06 21:43:58,032 - hashSeq - INFO - written 200374 lines\n",
      "2019-12-06 21:43:58,032 - hashSeq - INFO - finish converting...\n"
     ]
    }
   ],
   "source": [
    "!python ../../scripts/fastseq/hashSeq.py -i data.seq --hash lsh -o data.hash -k 15"
   ]
  },
  {
   "cell_type": "code",
   "execution_count": 10,
   "metadata": {},
   "outputs": [
    {
     "name": "stdout",
     "output_type": "stream",
     "text": [
      "-rw-rw-r-- 1 bo bo 13856 Dec  6 21:42 data.hash.lsh.pkl\r\n"
     ]
    }
   ],
   "source": [
    "#The hash function is written in data.hash.lsh.pkl\n",
    "!ls -l data.hash.lsh.pkl"
   ]
  },
  {
   "cell_type": "code",
   "execution_count": 11,
   "metadata": {},
   "outputs": [
    {
     "name": "stdout",
     "output_type": "stream",
     "text": [
      "1547498 1321541 2256411 2417262 1553600 3639975 24959 2176631 1223176 799998 3119076 2954862 2883129 3939471 1765398 2985130 2438981 3612295 1254591 1422551 206063 3874447 3620544 2088457 3851583 1095766 3609656 3513212 3512134 1524343 1629758 1752897 3562090 2585454 1356870 795884 1230923 2433130 2446910 2572014 1454166 2117173 783743 2676599 2742119 2782323 3553835 3553858 1248938 1332351 3258357 1283098 1497560 3453543 1489372 2816997 3456964 1725463 1756219 1457989 3611658 3109951 2030175 2340386 3386030 2795554 4092951\r\n",
      "1824527 4079063 3819659 3358891 4078788 2965191 291669 1278829 1410943 341879 2463486 2329194 2394170 3582187 3452023 3578088 2200941 1164383 1569358 3612231 2257773 3000111 1456322 2006146 3054060 2208628 2477151 1938446 3629675 2247851 3629695 4038538 4009322 1271423 3270175\r\n",
      "3126116 1349461 2671678 252928 3980974 2512063 3599219 2670016 2026493 1467991 2204517 2585581 1489102 1454167 401658 2994660 2569076 1764121 1760275 767058 3972284 3479309 3370779 1756686 1240659 2982954 2399068 3618005 1875268 1951035 1806861 3304503 3608170 4070918 2696315 549236 2013637 1816519 350071 2483061 2801348 1555682 353911 2257461 3639979 1947588 3638895 2213695 3302007 3619915 4074699 3573800 2679157 1970292 1487684 315478 1426277 2463310 3293127 3892779 4075716 3769871 1769227 2889495 2958496 840830 1456711\r\n"
     ]
    }
   ],
   "source": [
    "#Here is the hashed reads\n",
    "!head -n 3 data.hash"
   ]
  },
  {
   "cell_type": "markdown",
   "metadata": {},
   "source": [
    "### train a model"
   ]
  },
  {
   "cell_type": "code",
   "execution_count": 12,
   "metadata": {},
   "outputs": [
    {
     "name": "stdout",
     "output_type": "stream",
     "text": [
      "Read 16M words\n",
      "Number of words:  465321\n",
      "Number of labels: 0\n",
      "Progress: 100.0% words/sec/thread:   34883 lr:  0.000000 loss:  1.635779 ETA:   0h 0m 2.580786 ETA:   0h 2m 0.039128 loss:  2.517217 ETA:   0h 2m 0.006805 loss:  1.737252 ETA:   0h 0m\n"
     ]
    }
   ],
   "source": [
    "!../../lshvec skipgram -input data.hash -output model"
   ]
  },
  {
   "cell_type": "code",
   "execution_count": 13,
   "metadata": {},
   "outputs": [
    {
     "name": "stdout",
     "output_type": "stream",
     "text": [
      "-rw-rw-r-- 1 bo bo 1180110947 Dec  6 21:48 model.bin\r\n",
      "-rw-rw-r-- 1 bo bo  407886805 Dec  6 21:48 model.vec\r\n"
     ]
    }
   ],
   "source": [
    "#There are two output model files: one is binary, the other is text.\n",
    "!ls -l model.*"
   ]
  },
  {
   "cell_type": "code",
   "execution_count": 14,
   "metadata": {},
   "outputs": [
    {
     "name": "stdout",
     "output_type": "stream",
     "text": [
      "465321 100\r\n",
      "</s> 0.20855 0.14254 -0.13189 -0.020726 0.15359 0.16766 -0.12834 -0.099368 0.030733 0.058415 0.052219 0.12906 0.051242 -0.098405 -0.014625 0.04732 0.087767 -0.16579 -0.0039574 -0.16318 0.047499 -0.0058949 0.050666 0.056994 -0.045223 -0.16095 0.074154 -0.025397 0.041267 0.23091 0.063387 0.010792 0.08309 -0.074588 -0.050678 -0.05632 0.057025 -0.15734 -0.12422 0.20827 -0.10452 0.24453 0.038239 0.081913 0.043164 -0.14464 0.15766 -0.049424 0.049109 0.032868 0.01537 0.095673 -0.013798 0.045038 0.13461 0.061042 -0.021854 0.038732 0.32138 -0.11862 -0.10115 0.064803 0.21724 0.10302 0.073854 -0.040119 0.044514 0.003763 0.0090239 -0.046001 -0.19005 -0.068767 0.11103 -0.033928 0.063613 0.067708 0.0073191 -0.18166 0.023464 0.10104 0.026007 -0.23466 0.03854 0.014147 -0.1071 0.058465 0.16106 -0.05859 -0.1409 -0.0987 -0.076726 0.10277 0.020687 0.033329 0.18161 -0.1061 -0.1491 0.14285 -0.023047 -0.26205 \r\n",
      "1455191 -0.011176 0.70282 0.9644 0.19587 -0.15917 0.082273 -0.74357 -0.71036 0.42378 0.08676 0.51888 0.14082 -0.25129 0.14268 -0.75286 0.6497 -0.51295 0.10097 -0.65119 -0.2349 -0.073821 0.98002 0.58225 -0.0058469 -0.18076 -0.68171 -0.47612 0.080842 0.20298 -0.22334 -0.2074 -0.053477 0.060086 -0.010627 -0.0022394 -0.53976 -0.43688 -1.0207 0.067845 -0.089242 0.10045 0.95287 0.42345 0.42481 -0.4827 -0.17662 -0.21875 0.66132 -0.37461 0.32067 0.48402 -0.028922 -0.49224 0.29714 0.056602 0.13224 0.43182 0.65676 0.80729 -0.36388 -0.4561 0.0075215 0.55053 0.41528 0.059161 -0.32689 1.0472 -0.37213 0.13438 -1.2761 -0.3603 -0.69083 -0.53376 -0.66371 -0.49906 -0.26096 -1.0367 0.017018 0.45152 -0.73636 0.98392 -0.80013 -0.022016 0.32728 -0.70797 -0.70763 0.23767 -0.098639 -1.181 0.17222 0.33104 -0.24326 0.25803 0.11477 -0.30965 0.31239 -0.62882 -0.23722 0.18411 -0.81171 \r\n"
     ]
    }
   ],
   "source": [
    "!head -n 3 model.vec"
   ]
  },
  {
   "cell_type": "markdown",
   "metadata": {},
   "source": [
    "### Now the model is trained.  To visualize it, first get vectors of reads"
   ]
  },
  {
   "cell_type": "code",
   "execution_count": 11,
   "metadata": {},
   "outputs": [],
   "source": [
    "def read_embedding(fname):\n",
    "    with open(fname) as fin:\n",
    "        lines=list(fin)\n",
    "    assert len(lines)>1\n",
    "    first_line=lines[0]\n",
    "    num_word, dim_vec = [int(u) for u in first_line.split(\" \")]\n",
    "    assert len(lines)==num_word+1\n",
    "    ret ={}\n",
    "    for line in lines[1:]:\n",
    "        lst = line.strip().split(\" \")\n",
    "        assert len(lst)==dim_vec+1, line\n",
    "        if lst[0]=='</s>': continue\n",
    "        word = int(lst[0])\n",
    "        vec = np.array([float(u) for u in lst[1:]])\n",
    "        ret[word]=vec\n",
    "    return ret,dim_vec\n",
    "\n",
    "embedding,dim_vec = read_embedding(\"model.vec\")\n",
    "seqvectors = []\n",
    "with open(\"data.hash\") as fin:\n",
    "    lines = list(fin)\n",
    "for i,line in enumerate(lines):\n",
    "    words = [int(u) for u in line.strip().split(\" \")]\n",
    "    vec = [embedding[u] for u in words if u in embedding]\n",
    "    seqvectors.append(np.mean(vec,0) if len(vec)>0 else None)#np.zeros([dim_vec],dtype=np.float32))\n",
    "    #if i>10: break    "
   ]
  },
  {
   "cell_type": "markdown",
   "metadata": {},
   "source": [
    "### Next get the labels"
   ]
  },
  {
   "cell_type": "code",
   "execution_count": 12,
   "metadata": {},
   "outputs": [
    {
     "data": {
      "text/html": [
       "<div>\n",
       "<style scoped>\n",
       "    .dataframe tbody tr th:only-of-type {\n",
       "        vertical-align: middle;\n",
       "    }\n",
       "\n",
       "    .dataframe tbody tr th {\n",
       "        vertical-align: top;\n",
       "    }\n",
       "\n",
       "    .dataframe thead th {\n",
       "        text-align: right;\n",
       "    }\n",
       "</style>\n",
       "<table border=\"1\" class=\"dataframe\">\n",
       "  <thead>\n",
       "    <tr style=\"text-align: right;\">\n",
       "      <th></th>\n",
       "      <th>is_spike</th>\n",
       "      <th>vec</th>\n",
       "    </tr>\n",
       "    <tr>\n",
       "      <th>0</th>\n",
       "      <th></th>\n",
       "      <th></th>\n",
       "    </tr>\n",
       "  </thead>\n",
       "  <tbody>\n",
       "    <tr>\n",
       "      <th>10001</th>\n",
       "      <td>True</td>\n",
       "      <td>[-0.003391091860465098, 0.3199289186046512, 0....</td>\n",
       "    </tr>\n",
       "    <tr>\n",
       "      <th>10002</th>\n",
       "      <td>True</td>\n",
       "      <td>[0.19919584651162792, 0.3350167674418605, 0.21...</td>\n",
       "    </tr>\n",
       "    <tr>\n",
       "      <th>10003</th>\n",
       "      <td>True</td>\n",
       "      <td>[0.00420835697674417, 0.3632734558139534, 0.44...</td>\n",
       "    </tr>\n",
       "    <tr>\n",
       "      <th>10004</th>\n",
       "      <td>True</td>\n",
       "      <td>[0.21734693255813958, 0.22478605813953478, -0....</td>\n",
       "    </tr>\n",
       "    <tr>\n",
       "      <th>10005</th>\n",
       "      <td>True</td>\n",
       "      <td>[-0.20730152558139545, 0.11497210348837202, -0...</td>\n",
       "    </tr>\n",
       "  </tbody>\n",
       "</table>\n",
       "</div>"
      ],
      "text/plain": [
       "       is_spike                                                vec\n",
       "0                                                                 \n",
       "10001      True  [-0.003391091860465098, 0.3199289186046512, 0....\n",
       "10002      True  [0.19919584651162792, 0.3350167674418605, 0.21...\n",
       "10003      True  [0.00420835697674417, 0.3632734558139534, 0.44...\n",
       "10004      True  [0.21734693255813958, 0.22478605813953478, -0....\n",
       "10005      True  [-0.20730152558139545, 0.11497210348837202, -0..."
      ]
     },
     "execution_count": 12,
     "metadata": {},
     "output_type": "execute_result"
    }
   ],
   "source": [
    "seqs = pd.read_csv(\"data.seq\",sep='\\t', header=None, usecols=[0,1],index_col=0)\n",
    "seqs.columns=['id']\n",
    "seqs['is_spike']=seqs['id'].map(lambda u: u.startswith(\"Spike\"))\n",
    "seqs['vec']=seqvectors\n",
    "seqs.drop('id',axis=1,inplace=True)\n",
    "seqs=seqs[~seqs['vec'].isnull()]\n",
    "seqs[seqs['is_spike']].head()"
   ]
  },
  {
   "cell_type": "markdown",
   "metadata": {},
   "source": [
    "### Now train TSNE"
   ]
  },
  {
   "cell_type": "code",
   "execution_count": 13,
   "metadata": {},
   "outputs": [],
   "source": [
    "seqs=seqs.sample(10000,replace=False) #to speed up "
   ]
  },
  {
   "cell_type": "code",
   "execution_count": 14,
   "metadata": {},
   "outputs": [
    {
     "data": {
      "text/plain": [
       "(10000, 100)"
      ]
     },
     "execution_count": 14,
     "metadata": {},
     "output_type": "execute_result"
    }
   ],
   "source": [
    "tsne = TSNE(n_components=2, perplexity=100, n_jobs=8)\n",
    "X=np.array(list(seqs['vec'].values))\n",
    "X.shape"
   ]
  },
  {
   "cell_type": "code",
   "execution_count": 15,
   "metadata": {},
   "outputs": [
    {
     "name": "stdout",
     "output_type": "stream",
     "text": [
      "CPU times: user 3min 41s, sys: 82.5 ms, total: 3min 41s\n",
      "Wall time: 34.4 s\n"
     ]
    }
   ],
   "source": [
    "%time Y = tsne.fit_transform(X)"
   ]
  },
  {
   "cell_type": "markdown",
   "metadata": {},
   "source": [
    "### Visualization"
   ]
  },
  {
   "cell_type": "code",
   "execution_count": 16,
   "metadata": {
    "scrolled": true
   },
   "outputs": [
    {
     "data": {
      "text/plain": [
       "<matplotlib.legend.Legend at 0x7f152264c588>"
      ]
     },
     "execution_count": 16,
     "metadata": {},
     "output_type": "execute_result"
    },
    {
     "data": {
      "image/png": "[encoded data removed]",
      "text/plain": [
       "<Figure size 432x288 with 1 Axes>"
      ]
     },
     "metadata": {
      "needs_background": "light"
     },
     "output_type": "display_data"
    }
   ],
   "source": [
    "labels=seqs['is_spike'].values\n",
    "plt.scatter(Y[labels][:,0],Y[labels][:,1],alpha=1,s=1)\n",
    "plt.scatter(Y[~labels][:,0],Y[~labels][:,1],alpha=0.5,s=1)\n",
    "plt.legend(['spike','non-spike'])"
   ]
  },
  {
   "cell_type": "code",
   "execution_count": null,
   "metadata": {},
   "outputs": [],
   "source": []
  },
  {
   "cell_type": "markdown",
   "metadata": {},
   "source": [
    "# Using trained model"
   ]
  },
  {
   "cell_type": "markdown",
   "metadata": {},
   "source": [
    "In the previous section, we trained and used the model on the same set of reads. \n",
    "In this section, we will show using the model on new reads or references."
   ]
  },
  {
   "cell_type": "markdown",
   "metadata": {},
   "source": [
    "## reads example"
   ]
  },
  {
   "cell_type": "code",
   "execution_count": 15,
   "metadata": {},
   "outputs": [
    {
     "name": "stdout",
     "output_type": "stream",
     "text": [
      "--2019-12-06 22:05:26--  ftp://ftp.sra.ebi.ac.uk/vol1/fastq/ERR107/004/ERR1072624/ERR1072624.fastq.gz\n",
      "           => ‘ERR1072624.fastq.gz’\n",
      "Resolving ftp.sra.ebi.ac.uk (ftp.sra.ebi.ac.uk)... 193.62.192.7\n",
      "Connecting to ftp.sra.ebi.ac.uk (ftp.sra.ebi.ac.uk)|193.62.192.7|:21... connected.\n",
      "Logging in as anonymous ... Logged in!\n",
      "==> SYST ... done.    ==> PWD ... done.\n",
      "==> TYPE I ... done.  ==> CWD (1) /vol1/fastq/ERR107/004/ERR1072624 ... done.\n",
      "==> SIZE ERR1072624.fastq.gz ... 1094892\n",
      "==> PASV ... done.    ==> RETR ERR1072624.fastq.gz ... done.\n",
      "Length: 1094892 (1.0M) (unauthoritative)\n",
      "\n",
      "ERR1072624.fastq.gz 100%[===================>]   1.04M   765KB/s    in 1.4s    \n",
      "\n",
      "2019-12-06 22:05:31 (765 KB/s) - ‘ERR1072624.fastq.gz’ saved [1094892]\n",
      "\n"
     ]
    }
   ],
   "source": [
    "#get reads from somewhere\n",
    "!wget ftp://ftp.sra.ebi.ac.uk/vol1/fastq/ERR107/004/ERR1072624/ERR1072624.fastq.gz"
   ]
  },
  {
   "cell_type": "code",
   "execution_count": 18,
   "metadata": {},
   "outputs": [],
   "source": [
    "!gunzip ERR1072624.fastq.gz"
   ]
  },
  {
   "cell_type": "code",
   "execution_count": 19,
   "metadata": {},
   "outputs": [],
   "source": [
    "#convert to seq file\n",
    "!python ../../scripts/fastseq/fastqToSeq.py -i ERR1072624.fastq -o ERR1072624.seq"
   ]
  },
  {
   "cell_type": "code",
   "execution_count": 20,
   "metadata": {},
   "outputs": [
    {
     "name": "stdout",
     "output_type": "stream",
     "text": [
      "1\tERR1072624.1 10317.000001002_0/1\tTACGTAGGTGGCGAGCGTTGTCCGGAATTATTGGGCGTAAAGAGCATGTAGGCGGCTTAATAAGTCGAGCGTGAAAATGCGGGGCTCAACCCCGTATGGCGCTGGAAACTGTTAGGCTTGAGTGCAGGAGAGGAAAGGGGAATTCCCAGTG\r\n",
      "2\tERR1072624.2 10317.000001002_1/1\tTACAGAGGGTGCAAGCGTTAATCGGAATTACTGGGCGTAAAGCGCGCGTAGGTGGTTTGTTAAGTTGAATGTGAAATCCCCGGGCTCAACCTGGGAACTGCATCCAAAACTGGCAAGCTAGAGTATGGTAGAGGGTAGTGGAATTTCCTGT\r\n",
      "3\tERR1072624.3 10317.000001002_2/1\tTACAGAGGGTGCAAGCGTTAATCGGAATTACTGGGCGTAAAGCGCGCGTAGGTGGTTTGTTAAGTTGAATGTGAAATCCCCGGGCTCAACCTGGGAACTGCATCCAAAACTGGCAAGCTAGAGTATGGTAGAGGGTAGTGGAATTTCCTGT\r\n"
     ]
    }
   ],
   "source": [
    "!head -n 3 ERR1072624.seq"
   ]
  },
  {
   "cell_type": "code",
   "execution_count": 23,
   "metadata": {},
   "outputs": [
    {
     "name": "stdout",
     "output_type": "stream",
     "text": [
      "2019-12-06 22:08:54,708 - hashSeq - INFO - start converting...\n",
      "2019-12-06 22:08:54,708 - hashSeq - INFO - parameters: {'f': <function convert.<locals>.f at 0x7f557145d950>, 'lsh_file': 'data.hash.lsh.pkl', 'create_lsh_only': False, 'batch_size': 100000, 'hash_size': 22, 'out_file': 'ERR1072624.hash', 'in_file': 'ERR1072624.seq', 'n_thread': 7, 'kmer_size': 31, 'hash_fun': 'lsh', 'bucket': 20000000}\n",
      "2019-12-06 22:08:54,708 - hashSeq - INFO - load lsh from file data.hash.lsh.pkl\n",
      "100%|████████████████████████████████████| 17838/17838 [00:55<00:00, 324.08it/s]\n",
      "2019-12-06 22:09:53,051 - hashSeq - INFO - written 17838 lines\n",
      "2019-12-06 22:09:53,051 - hashSeq - INFO - finish converting...\n"
     ]
    }
   ],
   "source": [
    "#hash the seq \n",
    "!python ../../scripts/fastseq/hashSeq.py -i ERR1072624.seq --hash lsh -o ERR1072624.hash --lsh_file data.hash.lsh.pkl"
   ]
  },
  {
   "cell_type": "code",
   "execution_count": 24,
   "metadata": {},
   "outputs": [
    {
     "name": "stdout",
     "output_type": "stream",
     "text": [
      "2029021 1294895 4071313 1534505 2921794 3542699 2002954 1505396 3554045 1325404 905318 1431382 3410479 2847801 2715238 3983063 2004351 2742057 3555285 1511438 823718 3502693 3069869 1505870 1513207 1454317 2119487 3618952 2006147 1713375 3626542 4011981 1266191 3988703 1286759 2916279 2341696 2438392 979494 2011223 1490408 2774529 2511379 1747463 3136690 1172095 2916732 1561636 1979604 2759775 3588655 3614451 3612239 3482743 1163877 2675327 997215 1474149 2920562 2536294 2015169 2334762 3172031 1074559 2925671 3078978 3546799 2782259 1388788 1410281 962631 92029 1358436 2528594 2005961 2115642 3332633 4070430 2907702 3513402 2666868 1849685 731213 2382390 767973 365294 2146023 1473217 1505921 3640515 1029576 3529326 3039007 1781645 1888334 1233946 3448518 3144554 2790947 3421271 1561212 1568894 1348476 417919 2554484 3030599 2442791 2442622 1536096 1719298 1319150 2987852 2463338 2388734 2025991 2011141 3484909 3612589 3933663 2006215 2323999 3355181 2053647 1934657 2014407 2587187 2585126 1448517 1231709 1631351 3332662 2530174 2496634 2397235 2021746 2025790 3550387\r\n",
      "2028885 1301026 3546763 3550441 3067394 3077719 2005578 1758141 1211125 1455199 972910 2924005 2359855 1240027 589479 3478730 2671438 2881341 3522117 1448962 1566007 3449189 3052397 1571406 825030 1487085 2185085 3651720 2006019 1975551 3372654 2692445 3449446 2020703 1172133 3118144 2601792 3054402 979040 3432127 1457356 782883 2511383 1221191 1023212 1618788 2513781 3659367 2014660 2660829 1630239 3876027 3628751 3630935 3498621 1811231 1481924 1184791 2884734 3516013 2430190 3560510 1757207 2426111 3645324 4069213 3550250 2935827 1765750 4046316 2028325 2255703 3496686 497348 2197119 91004 4093621 1472598 2907310 3509417 2929020 1848180 734813 25206 90751 3487351 3517166 3542043 1223529 4054186 2022431 3511646 3495036 2987324 3554887 1989251 2253048 3475050 3061700 1384558 2112599 242549 905590 1540710 1467475 2792962 3615979 3448887 1548399 716900 2989126 1471093 2982762 1556197 2012243 1241687 1487461 2985416 1881671 2586167 1752129 2517563 3568135 2012815 487478 3447494 1454171 3128776 3481130 1223001 1633343 1531411 3570279 2378617 2519152 1874950 969075\r\n",
      "2028885 1301026 3546763 3550441 3067394 3077719 2005578 1758141 1211125 1455199 972910 2924005 2359855 1240027 589479 3478730 2671438 2881341 3522117 1448962 1566007 3449189 3052397 1571406 825030 1487085 2185085 3651720 2006019 1975551 3372654 2692445 3449446 2020703 1172133 3118144 2601792 3054402 979040 3432127 1457356 782883 2511383 1221191 1023212 1618788 2513781 3659367 2014660 2660829 1630239 3876027 3628751 3630935 3498621 1811231 1481924 1184791 2884734 3516013 2430190 3560510 1757207 2426111 3645324 4069213 3550250 2935827 1765750 4046316 2028325 2255703 3496686 497348 2197119 91004 4093621 1472598 2907310 3509417 2929020 1848180 734813 25206 90751 3487351 3517166 3542043 1223529 4054186 2022431 3511646 3495036 2987324 3554887 1989251 2253048 3475050 3061700 1384558 2112599 242549 905590 1540710 1467475 2792962 3615979 3448887 1548399 716900 2989126 1471093 2982762 1556197 2012243 1241687 1487461 2985416 1881671 2586167 1752129 2517563 3568135 2012815 487478 3447494 1454171 3128776 3481130 1223001 1633343 1531411 3570279 2378617 2519152 1874950 969075\r\n"
     ]
    }
   ],
   "source": [
    "!head -n 3 ERR1072624.hash"
   ]
  },
  {
   "cell_type": "code",
   "execution_count": 25,
   "metadata": {},
   "outputs": [],
   "source": [
    "#make vectors\n",
    "!cat ERR1072624.hash  | ../../lshvec  print-sentence-vectors model.bin > ERR1072624.vec"
   ]
  },
  {
   "cell_type": "code",
   "execution_count": 26,
   "metadata": {},
   "outputs": [
    {
     "name": "stdout",
     "output_type": "stream",
     "text": [
      "0.065538 0.056076 -0.03199 0.0071287 0.0073033 0.096237 -0.039096 -0.048329 0.028521 0.024575 0.015163 0.056677 0.029457 -0.025788 -0.025395 0.052137 0.098992 -0.058963 0.035743 -0.054245 0.046092 -0.0078598 -0.0078661 0.041549 -0.014253 -0.08753 0.03307 0.028964 0.0038997 0.11623 0.046671 -0.023327 0.033476 -0.018676 -0.053407 -0.0051041 0.040898 -0.045182 -0.047433 0.075164 -0.024438 0.11355 0.03509 0.057711 0.036225 -0.060891 0.0466 0.021098 0.015639 0.064477 0.012129 0.076307 -0.0092952 -0.023724 0.0013731 0.040658 -0.013594 0.040035 0.10618 -0.030015 -0.054585 0.0089826 0.13537 0.089059 -0.0074087 -0.028272 -0.0073344 -0.020579 0.015576 -0.019388 -0.049089 -0.046456 0.0030726 -0.059543 0.004919 0.040363 -0.02618 -0.059026 0.040849 0.04161 0.013532 -0.052193 0.012397 0.013667 0.0033577 0.029928 0.083827 -0.016018 -0.056317 -0.008923 0.0060988 0.023541 0.011117 0.008787 0.057649 -0.026141 -0.094589 0.019208 0.012591 -0.10741 \r\n",
      "0.06511 0.022087 -0.024801 0.0069433 0.028801 0.088133 -0.057568 -0.05094 0.024798 0.020099 -0.012362 0.056058 0.017884 -0.043008 -0.031896 0.057348 0.10394 -0.036395 0.0072332 -0.067551 0.037373 -0.0055447 0.0023973 0.047514 -0.0079111 -0.089182 0.022734 0.015989 -0.002778 0.13119 0.049518 -0.015499 0.056586 -0.029374 -0.02022 -0.009755 0.04017 -0.050113 -0.064892 0.041173 -0.03175 0.09821 0.033664 0.037456 0.032156 -0.085187 0.061339 0.0032988 0.0042949 0.0373 0.012825 0.066472 -0.016141 -0.0099181 0.01233 0.033642 -0.011324 0.033125 0.12199 -0.032814 -0.044902 0.041025 0.13478 0.07875 0.0037005 -0.00098755 0.021219 -0.0083586 0.0050234 -0.038039 -0.061945 -0.058085 0.0063682 -0.051441 0.006907 0.029133 -0.034065 -0.054031 0.025702 0.033347 0.023962 -0.056717 0.018737 -0.0014359 0.00079816 0.023313 0.08654 -0.0084303 -0.04311 -0.022593 0.00040426 0.020634 0.010007 0.011112 0.05598 -0.034836 -0.076434 0.0076121 -0.0049247 -0.095042 \r\n",
      "0.06511 0.022087 -0.024801 0.0069433 0.028801 0.088133 -0.057568 -0.05094 0.024798 0.020099 -0.012362 0.056058 0.017884 -0.043008 -0.031896 0.057348 0.10394 -0.036395 0.0072332 -0.067551 0.037373 -0.0055447 0.0023973 0.047514 -0.0079111 -0.089182 0.022734 0.015989 -0.002778 0.13119 0.049518 -0.015499 0.056586 -0.029374 -0.02022 -0.009755 0.04017 -0.050113 -0.064892 0.041173 -0.03175 0.09821 0.033664 0.037456 0.032156 -0.085187 0.061339 0.0032988 0.0042949 0.0373 0.012825 0.066472 -0.016141 -0.0099181 0.01233 0.033642 -0.011324 0.033125 0.12199 -0.032814 -0.044902 0.041025 0.13478 0.07875 0.0037005 -0.00098755 0.021219 -0.0083586 0.0050234 -0.038039 -0.061945 -0.058085 0.0063682 -0.051441 0.006907 0.029133 -0.034065 -0.054031 0.025702 0.033347 0.023962 -0.056717 0.018737 -0.0014359 0.00079816 0.023313 0.08654 -0.0084303 -0.04311 -0.022593 0.00040426 0.020634 0.010007 0.011112 0.05598 -0.034836 -0.076434 0.0076121 -0.0049247 -0.095042 \r\n"
     ]
    }
   ],
   "source": [
    "#look at the vectors\n",
    "!head -n 3 ERR1072624.vec"
   ]
  },
  {
   "cell_type": "code",
   "execution_count": null,
   "metadata": {},
   "outputs": [],
   "source": []
  },
  {
   "cell_type": "markdown",
   "metadata": {},
   "source": [
    "## reference example"
   ]
  },
  {
   "cell_type": "markdown",
   "metadata": {},
   "source": [
    "It is actually same as reads (just take references as reads)"
   ]
  },
  {
   "cell_type": "code",
   "execution_count": 27,
   "metadata": {},
   "outputs": [
    {
     "name": "stdout",
     "output_type": "stream",
     "text": [
      "--2019-12-06 22:16:18--  ftp://ftp.ncbi.nih.gov/genomes/Viruses/achimota_rubulavirus_1_uid265896/NC_025403.fna\n",
      "           => ‘NC_025403.fna’\n",
      "Resolving ftp.ncbi.nih.gov (ftp.ncbi.nih.gov)... 130.14.250.10, 2607:f220:41e:250::11\n",
      "Connecting to ftp.ncbi.nih.gov (ftp.ncbi.nih.gov)|130.14.250.10|:21... connected.\n",
      "Logging in as anonymous ... Logged in!\n",
      "==> SYST ... done.    ==> PWD ... done.\n",
      "==> TYPE I ... done.  ==> CWD (1) /genomes/Viruses/achimota_rubulavirus_1_uid265896 ... done.\n",
      "==> SIZE NC_025403.fna ... 15913\n",
      "==> PASV ... done.    ==> RETR NC_025403.fna ... done.\n",
      "Length: 15913 (16K) (unauthoritative)\n",
      "\n",
      "NC_025403.fna       100%[===================>]  15.54K  --.-KB/s    in 0.01s   \n",
      "\n",
      "2019-12-06 22:16:19 (1.10 MB/s) - ‘NC_025403.fna’ saved [15913]\n",
      "\n",
      "--2019-12-06 22:16:19--  ftp://ftp.ncbi.nih.gov/genomes/Viruses/acidianus_filamentous_virus_2_uid20965/NC_009884.fna\n",
      "           => ‘NC_009884.fna’\n",
      "Resolving ftp.ncbi.nih.gov (ftp.ncbi.nih.gov)... 130.14.250.10, 2607:f220:41e:250::11\n",
      "Connecting to ftp.ncbi.nih.gov (ftp.ncbi.nih.gov)|130.14.250.10|:21... connected.\n",
      "Logging in as anonymous ... Logged in!\n",
      "==> SYST ... done.    ==> PWD ... done.\n",
      "==> TYPE I ... done.  ==> CWD (1) /genomes/Viruses/acidianus_filamentous_virus_2_uid20965 ... done.\n",
      "==> SIZE NC_009884.fna ... 32320\n",
      "==> PASV ... done.    ==> RETR NC_009884.fna ... done.\n",
      "Length: 32320 (32K) (unauthoritative)\n",
      "\n",
      "NC_009884.fna       100%[===================>]  31.56K  --.-KB/s    in 0.08s   \n",
      "\n",
      "2019-12-06 22:16:20 (417 KB/s) - ‘NC_009884.fna’ saved [32320]\n",
      "\n"
     ]
    }
   ],
   "source": [
    "#get reference from somewhere, virus are used here for their short length\n",
    "!wget ftp://ftp.ncbi.nih.gov/genomes/Viruses/achimota_rubulavirus_1_uid265896/NC_025403.fna\n",
    "!wget ftp://ftp.ncbi.nih.gov/genomes/Viruses/acidianus_filamentous_virus_2_uid20965/NC_009884.fna"
   ]
  },
  {
   "cell_type": "code",
   "execution_count": 47,
   "metadata": {},
   "outputs": [],
   "source": [
    "#convert fasta file to seq format. Since I don't have a ready-to-use script, code it.\n",
    "from Bio import SeqIO\n",
    "def read_fasta(filepath):\n",
    "    seq=\"\"\n",
    "    for seq_record in SeqIO.parse(filepath, \"fasta\"):\n",
    "        if seq: seq +=  \"NNNN\"\n",
    "        seq += str(seq_record.seq)\n",
    "    return filepath, seq\n",
    "\n",
    "refs = [read_fasta(\"NC_009884.fna\"), read_fasta(\"NC_025403.fna\")]\n",
    "with open(\"virus_ref.seq\", 'wt') as f:\n",
    "    for i, (fp,seq) in enumerate(refs):\n",
    "        f.write(\"{}\\t{}\\t{}\\n\".format(i+1,fp,seq))"
   ]
  },
  {
   "cell_type": "code",
   "execution_count": 49,
   "metadata": {},
   "outputs": [
    {
     "name": "stdout",
     "output_type": "stream",
     "text": [
      "2019-12-06 22:25:22,556 - hashSeq - INFO - start converting...\n",
      "2019-12-06 22:25:22,556 - hashSeq - INFO - parameters: {'f': <function convert.<locals>.f at 0x7f880edf6950>, 'lsh_file': 'data.hash.lsh.pkl', 'create_lsh_only': False, 'batch_size': 100000, 'hash_size': 22, 'out_file': 'virus_ref.hash', 'in_file': 'virus_ref.seq', 'n_thread': 7, 'kmer_size': 31, 'hash_fun': 'lsh', 'bucket': 20000000}\n",
      "2019-12-06 22:25:22,556 - hashSeq - INFO - load lsh from file data.hash.lsh.pkl\n",
      "100%|█████████████████████████████████████████████| 2/2 [00:00<00:00, 59.02it/s]\n",
      "2019-12-06 22:25:23,059 - hashSeq - INFO - written 2 lines\n",
      "2019-12-06 22:25:23,060 - hashSeq - INFO - finish converting...\n"
     ]
    }
   ],
   "source": [
    "#hash the seq \n",
    "!python ../../scripts/fastseq/hashSeq.py -i virus_ref.seq --hash lsh -o virus_ref.hash --lsh_file data.hash.lsh.pkl"
   ]
  },
  {
   "cell_type": "code",
   "execution_count": 55,
   "metadata": {},
   "outputs": [
    {
     "name": "stdout",
     "output_type": "stream",
     "text": [
      "1981188 2447357 1156207 1471575 1307143 3084170 2756425 3460655 840786 3382648 3714428 1749765 3570519 2012946 214611 2676247 209740 2514491 1223239 422775 2460008 2399576 3578233 2021430 1497649 3552\r\n",
      "3858067 1520997 3940022 2798902 2023187 1627190 2733948 2246011 3557927 3029665 3601007 2255899 176245 377983 193367 308823 2482027 2536292 3445862 1489124 1503871 3679247 3102535 653134 3558491 12862\r\n"
     ]
    }
   ],
   "source": [
    "!head -n 3 virus_ref.hash |cut -c1-200"
   ]
  },
  {
   "cell_type": "code",
   "execution_count": 56,
   "metadata": {},
   "outputs": [],
   "source": [
    "#make vectors\n",
    "!cat virus_ref.hash  | ../../lshvec  print-sentence-vectors model.bin > virus_ref.vec"
   ]
  },
  {
   "cell_type": "code",
   "execution_count": 58,
   "metadata": {},
   "outputs": [
    {
     "name": "stdout",
     "output_type": "stream",
     "text": [
      "0.056148 0.056934 -0.022931 0.0031992 0.016139 0.092811 -0.04622 -0.036074 0.038049 0.022168 0.007798 0.050782 0.023275 -0.025681 -0.025219 0.051455 0.097675 -0.047077 0.0067081 -0.065567 0.032403 0.013772 0.0086788 0.048637 -0.015351 -0.062762 0.030741 0.020055 0.017872 0.10976 0.036545 -0.0089377 0.041165 -0.022602 -0.034764 -0.017128 0.035278 -0.05875 -0.048973 0.047416 -0.036253 0.10807 0.032652 0.035734 0.025003 -0.080842 0.057022 0.019441 0.011013 0.039571 0.016255 0.05101 -0.012978 -0.0046726 0.019077 0.023385 -0.015923 0.03104 0.11015 -0.032414 -0.048461 0.016454 0.13725 0.06789 0.0069093 -0.03104 0.01189 -0.014841 0.013403 -0.038554 -0.063261 -0.056072 0.019838 -0.034719 0.0084461 0.025914 -0.027668 -0.052273 0.026668 0.036891 0.024775 -0.058896 0.011752 0.0033644 -0.0079324 0.034429 0.076287 8.359e-05 -0.057463 -0.015802 -0.01059 0.023789 0.0064972 0.0022477 0.058925 -0.048228 -0.057631 0.023032 -0.023505 -0.087542 \r\n",
      "0.056774 0.053217 -0.018387 0.00050239 0.015853 0.094254 -0.046526 -0.038224 0.033885 0.021649 0.011238 0.053242 0.02457 -0.02756 -0.024468 0.046345 0.09561 -0.048604 0.0066466 -0.067822 0.030317 0.0088967 0.0063572 0.053511 -0.016572 -0.063673 0.02925 0.022098 0.014589 0.11201 0.038721 -0.0078155 0.037917 -0.022404 -0.036758 -0.014961 0.032566 -0.053449 -0.047205 0.048367 -0.035052 0.1051 0.034467 0.037653 0.027142 -0.077402 0.059177 0.01448 0.014585 0.038566 0.015537 0.051763 -0.013924 -0.006601 0.020104 0.028637 -0.024626 0.028205 0.11279 -0.032192 -0.04637 0.014098 0.13709 0.068947 0.010808 -0.027582 0.010251 -0.016609 0.017221 -0.039363 -0.061458 -0.055782 0.01804 -0.034488 0.00933 0.032805 -0.027814 -0.053775 0.032263 0.040655 0.020231 -0.058945 0.015225 0.0030171 -0.0059463 0.030973 0.074583 0.0021614 -0.053669 -0.017196 -0.013519 0.026742 0.0035849 0.0078973 0.060994 -0.045634 -0.061556 0.022054 -0.023778 -0.092066 \r\n"
     ]
    }
   ],
   "source": [
    "#look at the vectors\n",
    "!head -n 3 virus_ref.vec"
   ]
  },
  {
   "cell_type": "code",
   "execution_count": null,
   "metadata": {},
   "outputs": [],
   "source": []
  }
 ],
 "metadata": {
  "kernelspec": {
   "display_name": "Python 3",
   "language": "python",
   "name": "python3"
  },
  "language_info": {
   "codemirror_mode": {
    "name": "ipython",
    "version": 3
   },
   "file_extension": ".py",
   "mimetype": "text/x-python",
   "name": "python",
   "nbconvert_exporter": "python",
   "pygments_lexer": "ipython3",
   "version": "3.6.7"
  }
 },
 "nbformat": 4,
 "nbformat_minor": 2
}
