{
 "cells": [
  {
   "cell_type": "code",
   "execution_count": 1,
   "metadata": {},
   "outputs": [
    {
     "name": "stdout",
     "output_type": "stream",
     "text": [
      "Populating the interactive namespace from numpy and matplotlib\n"
     ]
    }
   ],
   "source": [
    "import os\n",
    "import pandas as pd\n",
    "from MulticoreTSNE import MulticoreTSNE as TSNE\n",
    "%pylab inline"
   ]
  },
  {
   "cell_type": "code",
   "execution_count": 2,
   "metadata": {},
   "outputs": [],
   "source": [
    "!mkdir -p sandbox #let's put all stuff in the sandbox\n",
    "os.chdir(\"sandbox\")"
   ]
  },
  {
   "cell_type": "markdown",
   "metadata": {},
   "source": [
    "### Download a toy dataset which is describled in\n",
    "\n",
    "    \"Detection of low-abundance bacterial strains in metagenomic datasets by eigengenome partitioning.\" \n",
    "    Nature biotechnology 33.10 (2015): 1053."
   ]
  },
  {
   "cell_type": "code",
   "execution_count": 3,
   "metadata": {},
   "outputs": [
    {
     "name": "stdout",
     "output_type": "stream",
     "text": [
      "--2019-01-24 20:18:43--  https://github.com/brian-cleary/LatentStrainAnalysis/raw/master/testData.tar.gz\n",
      "Resolving github.com (github.com)... 192.30.253.112, 192.30.253.113\n",
      "Connecting to github.com (github.com)|192.30.253.112|:443... connected.\n",
      "HTTP request sent, awaiting response... 302 Found\n",
      "Location: https://raw.githubusercontent.com/brian-cleary/LatentStrainAnalysis/master/testData.tar.gz [following]\n",
      "--2019-01-24 20:18:43--  https://raw.githubusercontent.com/brian-cleary/LatentStrainAnalysis/master/testData.tar.gz\n",
      "Resolving raw.githubusercontent.com (raw.githubusercontent.com)... 151.101.48.133\n",
      "Connecting to raw.githubusercontent.com (raw.githubusercontent.com)|151.101.48.133|:443... connected.\n",
      "HTTP request sent, awaiting response... 200 OK\n",
      "Length: 17790844 (17M) [application/octet-stream]\n",
      "Saving to: ‘lsaTestData.tar.gz’\n",
      "\n",
      "lsaTestData.tar.gz  100%[===================>]  16.97M  5.37MB/s    in 3.4s    \n",
      "\n",
      "2019-01-24 20:18:47 (5.00 MB/s) - ‘lsaTestData.tar.gz’ saved [17790844/17790844]\n",
      "\n"
     ]
    }
   ],
   "source": [
    "if not os.path.exists('lsaTestData.tar.gz'):\n",
    "    !wget https://github.com/brian-cleary/LatentStrainAnalysis/raw/master/testData.tar.gz -O lsaTestData.tar.gz"
   ]
  },
  {
   "cell_type": "code",
   "execution_count": 5,
   "metadata": {
    "scrolled": true
   },
   "outputs": [],
   "source": [
    "!tar xf lsaTestData.tar.gz >  /dev/null  2>&1\n",
    "!cat original_reads/SRR*.fastq > data.fastq"
   ]
  },
  {
   "cell_type": "markdown",
   "metadata": {},
   "source": [
    "### convert fastq file to a seq file"
   ]
  },
  {
   "cell_type": "code",
   "execution_count": 6,
   "metadata": {},
   "outputs": [],
   "source": [
    "!python ../../scripts/fastseq/fastqToSeq.py -i data.fastq -o data.seq"
   ]
  },
  {
   "cell_type": "markdown",
   "metadata": {},
   "source": [
    "### encode  reads"
   ]
  },
  {
   "cell_type": "code",
   "execution_count": 3,
   "metadata": {},
   "outputs": [
    {
     "name": "stdout",
     "output_type": "stream",
     "text": [
      "2019-01-24 20:21:47,114 - hashSeq - INFO - start converting...\n",
      "2019-01-24 20:21:47,114 - hashSeq - INFO - parameters: {'out_file': 'data.hash', 'f': <function f at 0x7f02074c5b18>, 'hash_fun': 'lsh', 'bucket': 20000000, 'batch_size': 100000, 'hash_size': 22, 'kmer_size': 15, 'n_thread': 7, 'in_file': 'data.seq'}\n",
      "2019-01-24 20:21:47,114 - hashSeq - INFO - creating hash ...\n",
      "100%|████████████████████████████████████████| 660/660 [00:01<00:00, 407.13it/s]\n",
      "2019-01-24 20:21:48,778 - hashSeq - INFO - finish creating hash ...\n",
      "100%|█████████████████████████████████| 100000/100000 [01:29<00:00, 1120.10it/s]\n",
      "2019-01-24 20:23:23,446 - hashSeq - INFO - written 100000 lines\n",
      "100%|█████████████████████████████████| 100000/100000 [01:34<00:00, 1057.42it/s]\n",
      "2019-01-24 20:25:03,310 - hashSeq - INFO - written 200000 lines\n",
      "100%|████████████████████████████████████████| 374/374 [00:00<00:00, 430.20it/s]\n",
      "2019-01-24 20:25:04,314 - hashSeq - INFO - written 200374 lines\n",
      "2019-01-24 20:25:04,314 - hashSeq - INFO - finish converting...\n"
     ]
    }
   ],
   "source": [
    "!python ../../scripts/fastseq/hashSeq.py -i data.seq --hash lsh -o data.hash -k 15"
   ]
  },
  {
   "cell_type": "markdown",
   "metadata": {},
   "source": [
    "### train a model"
   ]
  },
  {
   "cell_type": "code",
   "execution_count": 4,
   "metadata": {},
   "outputs": [
    {
     "name": "stdout",
     "output_type": "stream",
     "text": [
      "Read 16M words\n",
      "Number of words:  417165\n",
      "Number of labels: 0\n",
      "Progress: 100.0% words/sec/thread:   36280 lr:  0.000000 loss:  1.594164 ETA:   0h 0m% words/sec/thread:   36519 lr:  0.012067 loss:  1.783659 ETA:   0h 0m\n"
     ]
    }
   ],
   "source": [
    "!../../fastseq skipgram -input data.hash -output model"
   ]
  },
  {
   "cell_type": "markdown",
   "metadata": {},
   "source": [
    "### Now the model is trained.  To visualize it, first get vectors of reads"
   ]
  },
  {
   "cell_type": "code",
   "execution_count": 11,
   "metadata": {},
   "outputs": [],
   "source": [
    "def read_embedding(fname):\n",
    "    with open(fname) as fin:\n",
    "        lines=list(fin)\n",
    "    assert len(lines)>1\n",
    "    first_line=lines[0]\n",
    "    num_word, dim_vec = [int(u) for u in first_line.split(\" \")]\n",
    "    assert len(lines)==num_word+1\n",
    "    ret ={}\n",
    "    for line in lines[1:]:\n",
    "        lst = line.strip().split(\" \")\n",
    "        assert len(lst)==dim_vec+1, line\n",
    "        if lst[0]=='</s>': continue\n",
    "        word = int(lst[0])\n",
    "        vec = np.array([float(u) for u in lst[1:]])\n",
    "        ret[word]=vec\n",
    "    return ret,dim_vec\n",
    "\n",
    "embedding,dim_vec = read_embedding(\"model.vec\")\n",
    "seqvectors = []\n",
    "with open(\"data.hash\") as fin:\n",
    "    lines = list(fin)\n",
    "for i,line in enumerate(lines):\n",
    "    words = [int(u) for u in line.strip().split(\" \")]\n",
    "    vec = [embedding[u] for u in words if u in embedding]\n",
    "    seqvectors.append(np.mean(vec,0) if len(vec)>0 else None)#np.zeros([dim_vec],dtype=np.float32))\n",
    "    #if i>10: break    "
   ]
  },
  {
   "cell_type": "markdown",
   "metadata": {},
   "source": [
    "### Next get the labels"
   ]
  },
  {
   "cell_type": "code",
   "execution_count": 16,
   "metadata": {},
   "outputs": [
    {
     "data": {
      "text/html": [
       "<div>\n",
       "<style scoped>\n",
       "    .dataframe tbody tr th:only-of-type {\n",
       "        vertical-align: middle;\n",
       "    }\n",
       "\n",
       "    .dataframe tbody tr th {\n",
       "        vertical-align: top;\n",
       "    }\n",
       "\n",
       "    .dataframe thead th {\n",
       "        text-align: right;\n",
       "    }\n",
       "</style>\n",
       "<table border=\"1\" class=\"dataframe\">\n",
       "  <thead>\n",
       "    <tr style=\"text-align: right;\">\n",
       "      <th></th>\n",
       "      <th>is_spike</th>\n",
       "      <th>vec</th>\n",
       "    </tr>\n",
       "    <tr>\n",
       "      <th>0</th>\n",
       "      <th></th>\n",
       "      <th></th>\n",
       "    </tr>\n",
       "  </thead>\n",
       "  <tbody>\n",
       "    <tr>\n",
       "      <th>10001</th>\n",
       "      <td>True</td>\n",
       "      <td>[0.20901083720930236, 0.15879133023255815, -0....</td>\n",
       "    </tr>\n",
       "    <tr>\n",
       "      <th>10002</th>\n",
       "      <td>True</td>\n",
       "      <td>[-0.13977729186046522, -0.20089517674418603, 0...</td>\n",
       "    </tr>\n",
       "    <tr>\n",
       "      <th>10003</th>\n",
       "      <td>True</td>\n",
       "      <td>[0.11275851511627906, -0.12522697674418604, -0...</td>\n",
       "    </tr>\n",
       "    <tr>\n",
       "      <th>10004</th>\n",
       "      <td>True</td>\n",
       "      <td>[0.2775530279069768, -0.1323303697674418, -0.1...</td>\n",
       "    </tr>\n",
       "    <tr>\n",
       "      <th>10005</th>\n",
       "      <td>True</td>\n",
       "      <td>[0.10739388720930242, -0.0324119953488372, -0....</td>\n",
       "    </tr>\n",
       "  </tbody>\n",
       "</table>\n",
       "</div>"
      ],
      "text/plain": [
       "       is_spike                                                vec\n",
       "0                                                                 \n",
       "10001      True  [0.20901083720930236, 0.15879133023255815, -0....\n",
       "10002      True  [-0.13977729186046522, -0.20089517674418603, 0...\n",
       "10003      True  [0.11275851511627906, -0.12522697674418604, -0...\n",
       "10004      True  [0.2775530279069768, -0.1323303697674418, -0.1...\n",
       "10005      True  [0.10739388720930242, -0.0324119953488372, -0...."
      ]
     },
     "execution_count": 16,
     "metadata": {},
     "output_type": "execute_result"
    }
   ],
   "source": [
    "seqs = pd.read_csv(\"data.seq\",sep='\\t', header=None, usecols=[0,1],index_col=0)\n",
    "seqs.columns=['id']\n",
    "seqs['is_spike']=seqs['id'].map(lambda u: u.startswith(\"Spike\"))\n",
    "seqs['vec']=seqvectors\n",
    "seqs.drop('id',axis=1,inplace=True)\n",
    "seqs=seqs[~seqs['vec'].isnull()]\n",
    "seqs[seqs['is_spike']].head()"
   ]
  },
  {
   "cell_type": "markdown",
   "metadata": {},
   "source": [
    "### Now train TSNE"
   ]
  },
  {
   "cell_type": "code",
   "execution_count": 21,
   "metadata": {},
   "outputs": [],
   "source": [
    "seqs=seqs.sample(10000,replace=False) #to speed up "
   ]
  },
  {
   "cell_type": "code",
   "execution_count": 24,
   "metadata": {},
   "outputs": [
    {
     "data": {
      "text/plain": [
       "(10000, 100)"
      ]
     },
     "execution_count": 24,
     "metadata": {},
     "output_type": "execute_result"
    }
   ],
   "source": [
    "tsne = TSNE(n_components=2, perplexity=100, n_jobs=8)\n",
    "X=np.array(list(seqs['vec'].values))\n",
    "X.shape"
   ]
  },
  {
   "cell_type": "code",
   "execution_count": 25,
   "metadata": {},
   "outputs": [
    {
     "name": "stdout",
     "output_type": "stream",
     "text": [
      "CPU times: user 3min 39s, sys: 304 ms, total: 3min 39s\n",
      "Wall time: 60 s\n"
     ]
    }
   ],
   "source": [
    "%time Y = tsne.fit_transform(X)"
   ]
  },
  {
   "cell_type": "markdown",
   "metadata": {},
   "source": [
    "### visualization"
   ]
  },
  {
   "cell_type": "code",
   "execution_count": 36,
   "metadata": {
    "scrolled": true
   },
   "outputs": [
    {
     "data": {
      "text/plain": [
       "<matplotlib.legend.Legend at 0x7f2a8b8b1790>"
      ]
     },
     "execution_count": 36,
     "metadata": {},
     "output_type": "execute_result"
    },
    {
     "data": {
      "image/png": "[encoded data removed]",
      "text/plain": [
       "<Figure size 432x288 with 1 Axes>"
      ]
     },
     "metadata": {},
     "output_type": "display_data"
    }
   ],
   "source": [
    "labels=seqs['is_spike'].values\n",
    "plt.scatter(Y[labels][:,0],Y[labels][:,1],alpha=1,s=1)\n",
    "plt.scatter(Y[~labels][:,0],Y[~labels][:,1],alpha=0.5,s=1)\n",
    "plt.legend(['spike','non-spike'])"
   ]
  },
  {
   "cell_type": "code",
   "execution_count": null,
   "metadata": {},
   "outputs": [],
   "source": []
  },
  {
   "cell_type": "code",
   "execution_count": null,
   "metadata": {},
   "outputs": [],
   "source": []
  }
 ],
 "metadata": {
  "kernelspec": {
   "display_name": "Python [conda env:python27]",
   "language": "python",
   "name": "conda-env-python27-py"
  },
  "language_info": {
   "codemirror_mode": {
    "name": "ipython",
    "version": 2
   },
   "file_extension": ".py",
   "mimetype": "text/x-python",
   "name": "python",
   "nbconvert_exporter": "python",
   "pygments_lexer": "ipython2",
   "version": "2.7.14"
  }
 },
 "nbformat": 4,
 "nbformat_minor": 2
}
