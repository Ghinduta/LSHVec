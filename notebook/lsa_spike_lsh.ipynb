{
 "cells": [
  {
   "cell_type": "code",
   "execution_count": 1,
   "metadata": {},
   "outputs": [],
   "source": [
    "import os"
   ]
  },
  {
   "cell_type": "code",
   "execution_count": 2,
   "metadata": {},
   "outputs": [],
   "source": [
    "import numpy as np\n",
    "import pandas as pd\n",
    "from sklearn import manifold\n"
   ]
  },
  {
   "cell_type": "code",
   "execution_count": 3,
   "metadata": {},
   "outputs": [
    {
     "name": "stdout",
     "output_type": "stream",
     "text": [
      "Populating the interactive namespace from numpy and matplotlib\n"
     ]
    }
   ],
   "source": [
    "%pylab inline"
   ]
  },
  {
   "cell_type": "code",
   "execution_count": 4,
   "metadata": {},
   "outputs": [],
   "source": [
    "if not os.path.exists('../data/lsaTestData.tar.gz'):\n",
    "    !wget https://github.com/brian-cleary/LatentStrainAnalysis/raw/master/testData.tar.gz -O ../data/lsaTestData.tar.gz"
   ]
  },
  {
   "cell_type": "code",
   "execution_count": 5,
   "metadata": {},
   "outputs": [],
   "source": [
    "!mkdir ../sandbox/lsaTestData_lsh"
   ]
  },
  {
   "cell_type": "code",
   "execution_count": 4,
   "metadata": {},
   "outputs": [],
   "source": [
    "os.chdir(\"../sandbox/lsaTestData_lsh/\")"
   ]
  },
  {
   "cell_type": "code",
   "execution_count": 7,
   "metadata": {
    "scrolled": true
   },
   "outputs": [],
   "source": [
    "!tar xf ../../data/lsaTestData.tar.gz >  /dev/null  2>&1"
   ]
  },
  {
   "cell_type": "code",
   "execution_count": 8,
   "metadata": {},
   "outputs": [],
   "source": [
    "!cat original_reads/SRR*.fastq > data.fastq"
   ]
  },
  {
   "cell_type": "code",
   "execution_count": 9,
   "metadata": {},
   "outputs": [],
   "source": [
    "!python ../../fastqToSeq.py -i data.fastq -o data.seq"
   ]
  },
  {
   "cell_type": "code",
   "execution_count": 5,
   "metadata": {},
   "outputs": [
    {
     "name": "stdout",
     "output_type": "stream",
     "text": [
      "2019-01-07 12:53:03,603 - hashSeq - INFO - start converting...\n",
      "2019-01-07 12:53:03,603 - hashSeq - INFO - parameters: {'out_file': 'data.fnv', 'f': <function f at 0x7f6b3e78bf50>, 'hash_fun': 'lsh', 'bucket': 20000000, 'batch_size': 100000, 'hash_size': 22, 'kmer_size': 15, 'n_thread': 7, 'in_file': 'data.seq'}\n",
      "2019-01-07 12:53:03,603 - hashSeq - INFO - creating hash ...\n",
      "100%|████████████████████████████████████████| 660/660 [00:02<00:00, 246.37it/s]\n",
      "2019-01-07 12:53:06,336 - hashSeq - INFO - finish creating hash ...\n",
      "100%|█████████████████████████████████| 100000/100000 [01:05<00:00, 1519.45it/s]\n",
      "2019-01-07 12:54:17,806 - hashSeq - INFO - written 100000 lines\n",
      "100%|█████████████████████████████████| 100000/100000 [01:19<00:00, 1251.56it/s]\n",
      "2019-01-07 12:55:43,120 - hashSeq - INFO - written 200000 lines\n",
      "100%|████████████████████████████████████████| 374/374 [00:01<00:00, 372.68it/s]\n",
      "2019-01-07 12:55:44,220 - hashSeq - INFO - written 200374 lines\n",
      "2019-01-07 12:55:44,226 - hashSeq - INFO - finish converting...\n"
     ]
    }
   ],
   "source": [
    "!python ../../scripts/fastseq/hashSeq.py -i data.seq --hash lsh -o data.fnv -k 15"
   ]
  },
  {
   "cell_type": "code",
   "execution_count": 11,
   "metadata": {},
   "outputs": [
    {
     "name": "stdout",
     "output_type": "stream",
     "text": [
      "Read 16M words\n",
      "Number of words:  468950\n",
      "Number of labels: 0\n",
      "Progress: 100.0% words/sec/thread:   36471 lr:  0.000000 loss:  1.560639 ETA:   0h 0m\n"
     ]
    }
   ],
   "source": [
    "!../../fastseq skipgram -input data.fnv -output data.fnv.enc"
   ]
  },
  {
   "cell_type": "code",
   "execution_count": 6,
   "metadata": {},
   "outputs": [],
   "source": [
    "def read_embedding(fname):\n",
    "    with open(fname) as fin:\n",
    "        lines=list(fin)\n",
    "    assert len(lines)>1\n",
    "    first_line=lines[0]\n",
    "    num_word, dim_vec = [int(u) for u in first_line.split(\" \")]\n",
    "    assert len(lines)==num_word+1\n",
    "    ret ={}\n",
    "    for line in lines[1:]:\n",
    "        lst = line.strip().split(\" \")\n",
    "        assert len(lst)==dim_vec+1, line\n",
    "        if lst[0]=='</s>': continue\n",
    "        word = int(lst[0])\n",
    "        vec = np.array([float(u) for u in lst[1:]])\n",
    "        ret[word]=vec\n",
    "    return ret,dim_vec"
   ]
  },
  {
   "cell_type": "code",
   "execution_count": 13,
   "metadata": {},
   "outputs": [],
   "source": [
    "embedding,dim_vec = read_embedding(\"data.fnv.enc.vec\")"
   ]
  },
  {
   "cell_type": "code",
   "execution_count": 14,
   "metadata": {},
   "outputs": [],
   "source": [
    "seqvectors = []\n",
    "with open(\"data.fnv\") as fin:\n",
    "    lines = list(fin)\n",
    "for i,line in enumerate(lines):\n",
    "    words = [int(u) for u in line.strip().split(\" \")]\n",
    "    vec = [embedding[u] for u in words if u in embedding]\n",
    "    seqvectors.append(np.mean(vec,0) if len(vec)>0 else None)#np.zeros([dim_vec],dtype=np.float32))\n",
    "    #if i>10: break\n",
    "        \n",
    "    "
   ]
  },
  {
   "cell_type": "code",
   "execution_count": 15,
   "metadata": {},
   "outputs": [
    {
     "data": {
      "text/plain": [
       "[array([ 0.29847115,  0.17759234, -0.1871727 ,  0.00182031,  0.13710304,\n",
       "         0.14619992, -0.10608838, -0.07458906, -0.04056433,  0.21255002,\n",
       "         0.1271515 , -0.06568848,  0.04804541,  0.07146542, -0.10919563,\n",
       "         0.16836467, -0.14794033, -0.08886195,  0.12926109, -0.00221903,\n",
       "        -0.06614337,  0.16546057,  0.07460368, -0.06686607,  0.07926664,\n",
       "         0.09465166, -0.05618182, -0.04265863, -0.05864494, -0.20700843,\n",
       "        -0.2332153 , -0.24554379, -0.0479159 ,  0.0026165 ,  0.00838554,\n",
       "         0.02959314,  0.20056617,  0.03325158,  0.1564405 , -0.15336107,\n",
       "         0.14539915,  0.18646615, -0.31079705,  0.06892774,  0.22143311,\n",
       "         0.21037925, -0.23936924,  0.04762014,  0.10569446, -0.17816414,\n",
       "         0.14582823, -0.19854759, -0.10755751,  0.23320777, -0.03446127,\n",
       "         0.09424053, -0.27220033,  0.04101645, -0.16974555, -0.0973909 ,\n",
       "         0.19019972,  0.06891098, -0.11923497, -0.16202723,  0.19916235,\n",
       "        -0.06546791,  0.12303008,  0.03168827, -0.17258214, -0.02013565,\n",
       "         0.07114111,  0.20778848,  0.27225926, -0.30365441,  0.00888882,\n",
       "        -0.01876995,  0.22701738,  0.2263665 , -0.19085948,  0.04594714,\n",
       "        -0.09769026, -0.17341223, -0.17404685, -0.15345926, -0.00409974,\n",
       "         0.04480795, -0.26791908, -0.07518507, -0.00929323, -0.0037591 ,\n",
       "        -0.11829351, -0.07666938,  0.24805748, -0.22118875,  0.14737817,\n",
       "        -0.0786485 ,  0.02522144,  0.05899667, -0.04445954, -0.20242972]),\n",
       " array([ 0.31406824,  0.20883931, -0.17606   , -0.01211221,  0.10131118,\n",
       "         0.11850589, -0.03228171, -0.09474034, -0.03846558,  0.16549884,\n",
       "         0.07268648, -0.07169818,  0.07003278,  0.11147824, -0.09132155,\n",
       "         0.17556352, -0.15152672, -0.09029697,  0.16396321,  0.01179925,\n",
       "        -0.08820479,  0.194226  ,  0.06865469, -0.07487752,  0.19818732,\n",
       "         0.10618512, -0.08538428, -0.05942504, -0.03163337, -0.23775676,\n",
       "        -0.24022748, -0.20619028, -0.07043282,  0.00973953, -0.02594883,\n",
       "         0.06952962,  0.21443432,  0.01453597,  0.08527676, -0.1017241 ,\n",
       "         0.16432301,  0.14646859, -0.25413565,  0.09126819,  0.19854628,\n",
       "         0.24170886, -0.21249914,  0.02487644,  0.17000906, -0.22468289,\n",
       "         0.18490422, -0.22293734, -0.12065224,  0.21853738, -0.03237689,\n",
       "         0.14576683, -0.26323748,  0.03135056, -0.20125355, -0.11000934,\n",
       "         0.16635924,  0.09872721, -0.05286614, -0.13566331,  0.14297641,\n",
       "        -0.09479259,  0.14176213,  0.09081238, -0.13684193, -0.00116566,\n",
       "         0.05130581,  0.18530286,  0.29654538, -0.30536441,  0.02682871,\n",
       "        -0.02084591,  0.23710621,  0.307776  , -0.15353079, -0.0055473 ,\n",
       "        -0.12461528, -0.13530769, -0.20421436, -0.10914828, -0.05397812,\n",
       "         0.0045764 , -0.21415059, -0.0533849 , -0.05808139,  0.00102839,\n",
       "        -0.12415714, -0.09696615,  0.33576759, -0.15815455,  0.13144393,\n",
       "        -0.11449492,  0.01359562,  0.05684804, -0.02271089, -0.2540851 ])]"
      ]
     },
     "execution_count": 15,
     "metadata": {},
     "output_type": "execute_result"
    }
   ],
   "source": [
    "seqvectors[:2]"
   ]
  },
  {
   "cell_type": "code",
   "execution_count": null,
   "metadata": {},
   "outputs": [],
   "source": []
  },
  {
   "cell_type": "code",
   "execution_count": 16,
   "metadata": {},
   "outputs": [],
   "source": [
    "seqs = pd.read_csv(\"data.seq\",sep='\\t', header=None, usecols=[0,1],index_col=0)"
   ]
  },
  {
   "cell_type": "code",
   "execution_count": 17,
   "metadata": {},
   "outputs": [],
   "source": [
    "seqs.columns=['id']"
   ]
  },
  {
   "cell_type": "code",
   "execution_count": 18,
   "metadata": {},
   "outputs": [],
   "source": [
    "seqs['spike']=seqs['id'].map(lambda u: u.startswith(\"Spike\"))"
   ]
  },
  {
   "cell_type": "code",
   "execution_count": 19,
   "metadata": {},
   "outputs": [
    {
     "data": {
      "text/html": [
       "<div>\n",
       "<style scoped>\n",
       "    .dataframe tbody tr th:only-of-type {\n",
       "        vertical-align: middle;\n",
       "    }\n",
       "\n",
       "    .dataframe tbody tr th {\n",
       "        vertical-align: top;\n",
       "    }\n",
       "\n",
       "    .dataframe thead th {\n",
       "        text-align: right;\n",
       "    }\n",
       "</style>\n",
       "<table border=\"1\" class=\"dataframe\">\n",
       "  <thead>\n",
       "    <tr style=\"text-align: right;\">\n",
       "      <th></th>\n",
       "      <th>id</th>\n",
       "      <th>spike</th>\n",
       "    </tr>\n",
       "    <tr>\n",
       "      <th>0</th>\n",
       "      <th></th>\n",
       "      <th></th>\n",
       "    </tr>\n",
       "  </thead>\n",
       "  <tbody>\n",
       "    <tr>\n",
       "      <th>10001</th>\n",
       "      <td>Spike.10000000000.1 gi|695198550|ref|NG_035027...</td>\n",
       "      <td>True</td>\n",
       "    </tr>\n",
       "    <tr>\n",
       "      <th>10002</th>\n",
       "      <td>Spike.10000000000.2 gi|695198550|ref|NG_035027...</td>\n",
       "      <td>True</td>\n",
       "    </tr>\n",
       "    <tr>\n",
       "      <th>10003</th>\n",
       "      <td>Spike.10000000001.1 gi|695198550|ref|NG_035027...</td>\n",
       "      <td>True</td>\n",
       "    </tr>\n",
       "    <tr>\n",
       "      <th>10004</th>\n",
       "      <td>Spike.10000000001.2 gi|695198550|ref|NG_035027...</td>\n",
       "      <td>True</td>\n",
       "    </tr>\n",
       "    <tr>\n",
       "      <th>10005</th>\n",
       "      <td>Spike.10000000002.1 gi|695198550|ref|NG_035027...</td>\n",
       "      <td>True</td>\n",
       "    </tr>\n",
       "  </tbody>\n",
       "</table>\n",
       "</div>"
      ],
      "text/plain": [
       "                                                      id  spike\n",
       "0                                                              \n",
       "10001  Spike.10000000000.1 gi|695198550|ref|NG_035027...   True\n",
       "10002  Spike.10000000000.2 gi|695198550|ref|NG_035027...   True\n",
       "10003  Spike.10000000001.1 gi|695198550|ref|NG_035027...   True\n",
       "10004  Spike.10000000001.2 gi|695198550|ref|NG_035027...   True\n",
       "10005  Spike.10000000002.1 gi|695198550|ref|NG_035027...   True"
      ]
     },
     "execution_count": 19,
     "metadata": {},
     "output_type": "execute_result"
    }
   ],
   "source": [
    "seqs[seqs.spike].head()"
   ]
  },
  {
   "cell_type": "code",
   "execution_count": 20,
   "metadata": {},
   "outputs": [
    {
     "data": {
      "text/plain": [
       "(200374, 200374)"
      ]
     },
     "execution_count": 20,
     "metadata": {},
     "output_type": "execute_result"
    }
   ],
   "source": [
    "len(seqs),len(seqvectors)"
   ]
  },
  {
   "cell_type": "code",
   "execution_count": 21,
   "metadata": {},
   "outputs": [],
   "source": [
    "seqs['vec']=seqvectors"
   ]
  },
  {
   "cell_type": "code",
   "execution_count": 22,
   "metadata": {},
   "outputs": [
    {
     "data": {
      "text/html": [
       "<div>\n",
       "<style scoped>\n",
       "    .dataframe tbody tr th:only-of-type {\n",
       "        vertical-align: middle;\n",
       "    }\n",
       "\n",
       "    .dataframe tbody tr th {\n",
       "        vertical-align: top;\n",
       "    }\n",
       "\n",
       "    .dataframe thead th {\n",
       "        text-align: right;\n",
       "    }\n",
       "</style>\n",
       "<table border=\"1\" class=\"dataframe\">\n",
       "  <thead>\n",
       "    <tr style=\"text-align: right;\">\n",
       "      <th></th>\n",
       "      <th>id</th>\n",
       "      <th>spike</th>\n",
       "      <th>vec</th>\n",
       "    </tr>\n",
       "    <tr>\n",
       "      <th>0</th>\n",
       "      <th></th>\n",
       "      <th></th>\n",
       "      <th></th>\n",
       "    </tr>\n",
       "  </thead>\n",
       "  <tbody>\n",
       "    <tr>\n",
       "      <th>1</th>\n",
       "      <td>SRR492065.1.1 HWI-EAS385_0095_FC:2:1:6702:1434...</td>\n",
       "      <td>False</td>\n",
       "      <td>[0.2984711475409837, 0.17759233934426225, -0.1...</td>\n",
       "    </tr>\n",
       "    <tr>\n",
       "      <th>2</th>\n",
       "      <td>SRR492065.1.2 HWI-EAS385_0095_FC:2:1:6702:1434...</td>\n",
       "      <td>False</td>\n",
       "      <td>[0.3140682413793103, 0.20883930689655178, -0.1...</td>\n",
       "    </tr>\n",
       "    <tr>\n",
       "      <th>3</th>\n",
       "      <td>SRR492065.2.1 HWI-EAS385_0095_FC:2:1:6931:1435...</td>\n",
       "      <td>False</td>\n",
       "      <td>[0.2892904677419356, 0.1846664553225806, -0.16...</td>\n",
       "    </tr>\n",
       "    <tr>\n",
       "      <th>4</th>\n",
       "      <td>SRR492065.2.2 HWI-EAS385_0095_FC:2:1:6931:1435...</td>\n",
       "      <td>False</td>\n",
       "      <td>[0.2969524838709678, 0.195218829032258, -0.127...</td>\n",
       "    </tr>\n",
       "    <tr>\n",
       "      <th>5</th>\n",
       "      <td>SRR492065.3.1 HWI-EAS385_0095_FC:2:1:9984:1431...</td>\n",
       "      <td>False</td>\n",
       "      <td>[0.3076308951612903, 0.1931182661290323, -0.20...</td>\n",
       "    </tr>\n",
       "  </tbody>\n",
       "</table>\n",
       "</div>"
      ],
      "text/plain": [
       "                                                  id  spike  \\\n",
       "0                                                             \n",
       "1  SRR492065.1.1 HWI-EAS385_0095_FC:2:1:6702:1434...  False   \n",
       "2  SRR492065.1.2 HWI-EAS385_0095_FC:2:1:6702:1434...  False   \n",
       "3  SRR492065.2.1 HWI-EAS385_0095_FC:2:1:6931:1435...  False   \n",
       "4  SRR492065.2.2 HWI-EAS385_0095_FC:2:1:6931:1435...  False   \n",
       "5  SRR492065.3.1 HWI-EAS385_0095_FC:2:1:9984:1431...  False   \n",
       "\n",
       "                                                 vec  \n",
       "0                                                     \n",
       "1  [0.2984711475409837, 0.17759233934426225, -0.1...  \n",
       "2  [0.3140682413793103, 0.20883930689655178, -0.1...  \n",
       "3  [0.2892904677419356, 0.1846664553225806, -0.16...  \n",
       "4  [0.2969524838709678, 0.195218829032258, -0.127...  \n",
       "5  [0.3076308951612903, 0.1931182661290323, -0.20...  "
      ]
     },
     "execution_count": 22,
     "metadata": {},
     "output_type": "execute_result"
    }
   ],
   "source": [
    "seqs.head()"
   ]
  },
  {
   "cell_type": "code",
   "execution_count": 23,
   "metadata": {},
   "outputs": [
    {
     "data": {
      "text/plain": [
       "0.0"
      ]
     },
     "execution_count": 23,
     "metadata": {},
     "output_type": "execute_result"
    }
   ],
   "source": [
    "seqs['vec'].isnull().mean()"
   ]
  },
  {
   "cell_type": "code",
   "execution_count": 24,
   "metadata": {},
   "outputs": [
    {
     "data": {
      "text/plain": [
       "0.0"
      ]
     },
     "execution_count": 24,
     "metadata": {},
     "output_type": "execute_result"
    }
   ],
   "source": [
    "seqs[seqs.spike]['vec'].isnull().mean()"
   ]
  },
  {
   "cell_type": "code",
   "execution_count": 25,
   "metadata": {},
   "outputs": [],
   "source": [
    "seqs=seqs[~seqs['vec'].isnull()]"
   ]
  },
  {
   "cell_type": "code",
   "execution_count": 26,
   "metadata": {},
   "outputs": [
    {
     "data": {
      "text/plain": [
       "((200374, 3), 20374, 0.10167985866429777)"
      ]
     },
     "execution_count": 26,
     "metadata": {},
     "output_type": "execute_result"
    }
   ],
   "source": [
    "seqs.shape,np.sum(seqs['spike']),seqs['spike'].mean()"
   ]
  },
  {
   "cell_type": "code",
   "execution_count": null,
   "metadata": {},
   "outputs": [],
   "source": []
  },
  {
   "cell_type": "code",
   "execution_count": 27,
   "metadata": {},
   "outputs": [
    {
     "data": {
      "text/plain": [
       "100    200374\n",
       "Name: vec, dtype: int64"
      ]
     },
     "execution_count": 27,
     "metadata": {},
     "output_type": "execute_result"
    }
   ],
   "source": [
    "seqs['vec'].map(lambda u: len(u)).value_counts()"
   ]
  },
  {
   "cell_type": "code",
   "execution_count": 28,
   "metadata": {},
   "outputs": [
    {
     "data": {
      "text/plain": [
       "((1000, 3), 91, 0.091)"
      ]
     },
     "execution_count": 28,
     "metadata": {},
     "output_type": "execute_result"
    }
   ],
   "source": [
    "subseqs=seqs.sample(n=1000)\n",
    "subseqs.shape,np.sum(subseqs['spike']),subseqs['spike'].mean()"
   ]
  },
  {
   "cell_type": "code",
   "execution_count": 29,
   "metadata": {},
   "outputs": [
    {
     "data": {
      "text/plain": [
       "(1000, 100)"
      ]
     },
     "execution_count": 29,
     "metadata": {},
     "output_type": "execute_result"
    }
   ],
   "source": [
    "X=np.array(list(subseqs['vec'].values))\n",
    "X.shape"
   ]
  },
  {
   "cell_type": "code",
   "execution_count": 30,
   "metadata": {},
   "outputs": [],
   "source": [
    "tsne = manifold.TSNE(n_components=2, init='random',\n",
    "                         random_state=0, perplexity=30)"
   ]
  },
  {
   "cell_type": "code",
   "execution_count": 31,
   "metadata": {},
   "outputs": [
    {
     "name": "stdout",
     "output_type": "stream",
     "text": [
      "CPU times: user 26.1 s, sys: 964 ms, total: 27.1 s\n",
      "Wall time: 27.1 s\n"
     ]
    }
   ],
   "source": [
    "%time Y = tsne.fit_transform(X)"
   ]
  },
  {
   "cell_type": "code",
   "execution_count": 32,
   "metadata": {
    "scrolled": true
   },
   "outputs": [
    {
     "data": {
      "text/plain": [
       "<matplotlib.collections.PathCollection at 0x7fd95d05c1d0>"
      ]
     },
     "execution_count": 32,
     "metadata": {},
     "output_type": "execute_result"
    },
    {
     "data": {
      "image/png": "[encoded data removed]",
      "text/plain": [
       "<Figure size 432x288 with 1 Axes>"
      ]
     },
     "metadata": {},
     "output_type": "display_data"
    }
   ],
   "source": [
    "plt.scatter(Y[subseqs['spike']][:,0],Y[subseqs['spike']][:,1],alpha=1)\n",
    "plt.scatter(Y[~subseqs['spike']][:,0],Y[~subseqs['spike']][:,1],alpha=0.5)"
   ]
  },
  {
   "cell_type": "code",
   "execution_count": 33,
   "metadata": {},
   "outputs": [],
   "source": [
    "tsne = manifold.TSNE(n_components=2, init='random',\n",
    "                         random_state=0, perplexity=100)"
   ]
  },
  {
   "cell_type": "code",
   "execution_count": 34,
   "metadata": {},
   "outputs": [
    {
     "name": "stdout",
     "output_type": "stream",
     "text": [
      "CPU times: user 39.1 s, sys: 980 ms, total: 40.1 s\n",
      "Wall time: 40.1 s\n"
     ]
    }
   ],
   "source": [
    "%time Y = tsne.fit_transform(X)"
   ]
  },
  {
   "cell_type": "code",
   "execution_count": 35,
   "metadata": {
    "scrolled": true
   },
   "outputs": [
    {
     "data": {
      "text/plain": [
       "<matplotlib.collections.PathCollection at 0x7fd959782250>"
      ]
     },
     "execution_count": 35,
     "metadata": {},
     "output_type": "execute_result"
    },
    {
     "data": {
      "image/png": "[encoded data removed]",
      "text/plain": [
       "<Figure size 432x288 with 1 Axes>"
      ]
     },
     "metadata": {},
     "output_type": "display_data"
    }
   ],
   "source": [
    "plt.scatter(Y[subseqs['spike']][:,0],Y[subseqs['spike']][:,1],alpha=1)\n",
    "plt.scatter(Y[~subseqs['spike']][:,0],Y[~subseqs['spike']][:,1],alpha=0.5)"
   ]
  },
  {
   "cell_type": "code",
   "execution_count": null,
   "metadata": {},
   "outputs": [],
   "source": []
  },
  {
   "cell_type": "code",
   "execution_count": null,
   "metadata": {},
   "outputs": [],
   "source": []
  }
 ],
 "metadata": {
  "kernelspec": {
   "display_name": "Python [conda env:python27]",
   "language": "python",
   "name": "conda-env-python27-py"
  },
  "language_info": {
   "codemirror_mode": {
    "name": "ipython",
    "version": 2
   },
   "file_extension": ".py",
   "mimetype": "text/x-python",
   "name": "python",
   "nbconvert_exporter": "python",
   "pygments_lexer": "ipython2",
   "version": "2.7.14"
  }
 },
 "nbformat": 4,
 "nbformat_minor": 2
}
